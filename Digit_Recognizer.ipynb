{
  "metadata": {
    "kernelspec": {
      "language": "python",
      "display_name": "Python 3",
      "name": "python3"
    },
    "language_info": {
      "name": "python",
      "version": "3.10.13",
      "mimetype": "text/x-python",
      "codemirror_mode": {
        "name": "ipython",
        "version": 3
      },
      "pygments_lexer": "ipython3",
      "nbconvert_exporter": "python",
      "file_extension": ".py"
    },
    "kaggle": {
      "accelerator": "none",
      "dataSources": [
        {
          "sourceId": 3004,
          "databundleVersionId": 861823,
          "sourceType": "competition"
        }
      ],
      "dockerImageVersionId": 30698,
      "isInternetEnabled": true,
      "language": "python",
      "sourceType": "notebook",
      "isGpuEnabled": false
    },
    "colab": {
      "provenance": [],
      "include_colab_link": true
    }
  },
  "nbformat_minor": 0,
  "nbformat": 4,
  "cells": [
    {
      "cell_type": "markdown",
      "metadata": {
        "id": "view-in-github",
        "colab_type": "text"
      },
      "source": [
        "<a href=\"https://colab.research.google.com/github/ranesh2k5/Digit_Recognizer/blob/main/Digit_Recognizer.ipynb\" target=\"_parent\"><img src=\"https://colab.research.google.com/assets/colab-badge.svg\" alt=\"Open In Colab\"/></a>"
      ]
    },
    {
      "cell_type": "code",
      "source": [
        "import numpy as np\n",
        "import pandas as pd\n",
        "from matplotlib import pyplot as plt\n",
        "import random\n",
        "np.random.seed(0)\n",
        "random.seed(0)"
      ],
      "metadata": {
        "_uuid": "8f2839f25d086af736a60e9eeb907d3b93b6e0e5",
        "_cell_guid": "b1076dfc-b9ad-4769-8c92-a6c4dae69d19",
        "execution": {
          "iopub.status.busy": "2024-07-12T06:39:22.37541Z",
          "iopub.execute_input": "2024-07-12T06:39:22.375847Z",
          "iopub.status.idle": "2024-07-12T06:39:23.516015Z",
          "shell.execute_reply.started": "2024-07-12T06:39:22.37581Z",
          "shell.execute_reply": "2024-07-12T06:39:23.514828Z"
        },
        "trusted": true,
        "id": "u7vVHzDExk7l"
      },
      "execution_count": 1,
      "outputs": []
    },
    {
      "cell_type": "code",
      "source": [
        "data = pd.read_csv('/content/train5.csv')\n",
        "data = np.array(data)\n",
        "m, n = data.shape\n",
        "np.random.shuffle(data)\n"
      ],
      "metadata": {
        "execution": {
          "iopub.status.busy": "2024-07-12T06:40:30.233133Z",
          "iopub.execute_input": "2024-07-12T06:40:30.233516Z",
          "iopub.status.idle": "2024-07-12T06:40:34.067881Z",
          "shell.execute_reply.started": "2024-07-12T06:40:30.233487Z",
          "shell.execute_reply": "2024-07-12T06:40:34.066589Z"
        },
        "trusted": true,
        "id": "0wL1AGgIxk7l"
      },
      "execution_count": 4,
      "outputs": []
    },
    {
      "cell_type": "code",
      "source": [
        "data_dev = data[0:28000].T\n",
        "Y_dev = data_dev[0]\n",
        "X_dev = data_dev[1:n]\n",
        "X_dev = X_dev / 255."
      ],
      "metadata": {
        "execution": {
          "iopub.status.busy": "2024-07-12T06:40:36.30953Z",
          "iopub.execute_input": "2024-07-12T06:40:36.310491Z",
          "iopub.status.idle": "2024-07-12T06:40:36.39133Z",
          "shell.execute_reply.started": "2024-07-12T06:40:36.310454Z",
          "shell.execute_reply": "2024-07-12T06:40:36.39021Z"
        },
        "trusted": true,
        "id": "_9xwV8CYxk7m"
      },
      "execution_count": 5,
      "outputs": []
    },
    {
      "cell_type": "code",
      "source": [
        "data_train = data[1000:m].T\n",
        "Y_train = data_train[0]\n",
        "X_train = data_train[1:n]\n",
        "X_train = X_train / 255.\n",
        "_, m_train = X_train.shape"
      ],
      "metadata": {
        "execution": {
          "iopub.status.busy": "2024-07-12T06:40:38.246056Z",
          "iopub.execute_input": "2024-07-12T06:40:38.246574Z",
          "iopub.status.idle": "2024-07-12T06:40:38.376035Z",
          "shell.execute_reply.started": "2024-07-12T06:40:38.246538Z",
          "shell.execute_reply": "2024-07-12T06:40:38.374885Z"
        },
        "trusted": true,
        "id": "MzYP9Ujyxk7m"
      },
      "execution_count": 6,
      "outputs": []
    },
    {
      "cell_type": "code",
      "source": [
        "def init_params():\n",
        "    W1 = np.random.rand(128, 784) - 0.5\n",
        "    b1 = np.random.rand(128, 1) - 0.5\n",
        "    W2 = np.random.rand(64, 128) - 0.5\n",
        "    b2 = np.random.rand(64, 1) - 0.5\n",
        "    W3 = np.random.rand(10, 64) - 0.5\n",
        "    b3 = np.random.rand(10, 1) - 0.5\n",
        "    return W1, b1, W2, b2, W3, b3\n",
        "\n",
        "\n"
      ],
      "metadata": {
        "execution": {
          "iopub.status.busy": "2024-07-12T06:40:40.497572Z",
          "iopub.execute_input": "2024-07-12T06:40:40.49805Z",
          "iopub.status.idle": "2024-07-12T06:40:40.506963Z",
          "shell.execute_reply.started": "2024-07-12T06:40:40.498018Z",
          "shell.execute_reply": "2024-07-12T06:40:40.505629Z"
        },
        "trusted": true,
        "id": "1rjV3amVxk7n"
      },
      "execution_count": 7,
      "outputs": []
    },
    {
      "cell_type": "code",
      "source": [
        "# Activation functions and their derivatives\n",
        "def LeakyReLU(Z, alpha=0.01):\n",
        "    return np.maximum(alpha * Z, Z)\n",
        "\n",
        "def ELU(Z, alpha=1.0):\n",
        "    return np.where(Z > 0, Z, alpha * (np.exp(Z) - 1))\n",
        "\n",
        "def ReLU(Z):\n",
        "    return np.maximum(0, Z)\n",
        "\n",
        "def LeakyReLU_deriv(Z, alpha=0.01):\n",
        "    return np.where(Z > 0, 1, alpha)\n",
        "\n",
        "def ELU_deriv(Z, alpha=1.0):\n",
        "    return np.where(Z > 0, 1, alpha * np.exp(Z))\n",
        "\n",
        "def ReLU_deriv(Z):\n",
        "    return np.where(Z > 0, 1, 0)\n",
        "\n",
        "def softmax(Z):\n",
        "    A = np.exp(Z) / np.sum(np.exp(Z), axis=0)\n",
        "    return A"
      ],
      "metadata": {
        "execution": {
          "iopub.status.busy": "2024-07-12T06:40:43.492123Z",
          "iopub.execute_input": "2024-07-12T06:40:43.492546Z",
          "iopub.status.idle": "2024-07-12T06:40:43.503346Z",
          "shell.execute_reply.started": "2024-07-12T06:40:43.492513Z",
          "shell.execute_reply": "2024-07-12T06:40:43.501894Z"
        },
        "trusted": true,
        "id": "bDDpTpmTxk7n"
      },
      "execution_count": 8,
      "outputs": []
    },
    {
      "cell_type": "code",
      "source": [
        "def forward_prop(W1, b1, W2, b2, W3, b3, X, activation_hidden1, activation_hidden2):\n",
        "    Z1 = W1.dot(X) + b1\n",
        "    A1 = activation_hidden1(Z1)\n",
        "    Z2 = W2.dot(A1) + b2\n",
        "    A2 = activation_hidden2(Z2)\n",
        "    Z3 = W3.dot(A2) + b3\n",
        "    A3 = softmax(Z3)\n",
        "    return Z1, A1, Z2, A2, Z3, A3\n"
      ],
      "metadata": {
        "execution": {
          "iopub.status.busy": "2024-07-12T06:40:47.080336Z",
          "iopub.execute_input": "2024-07-12T06:40:47.080728Z",
          "iopub.status.idle": "2024-07-12T06:40:47.088195Z",
          "shell.execute_reply.started": "2024-07-12T06:40:47.080699Z",
          "shell.execute_reply": "2024-07-12T06:40:47.087046Z"
        },
        "trusted": true,
        "id": "bftyHDwlxk7n"
      },
      "execution_count": 9,
      "outputs": []
    },
    {
      "cell_type": "code",
      "source": [
        "def one_hot(Y):\n",
        "    one_hot_Y = np.zeros((Y.size, Y.max() + 1))\n",
        "    one_hot_Y[np.arange(Y.size), Y] = 1\n",
        "    one_hot_Y = one_hot_Y.T\n",
        "    return one_hot_Y\n"
      ],
      "metadata": {
        "execution": {
          "iopub.status.busy": "2024-07-12T06:40:49.531008Z",
          "iopub.execute_input": "2024-07-12T06:40:49.531409Z",
          "iopub.status.idle": "2024-07-12T06:40:49.537458Z",
          "shell.execute_reply.started": "2024-07-12T06:40:49.531377Z",
          "shell.execute_reply": "2024-07-12T06:40:49.536156Z"
        },
        "trusted": true,
        "id": "hD8HHPKVxk7o"
      },
      "execution_count": 10,
      "outputs": []
    },
    {
      "cell_type": "code",
      "source": [
        "def backward_prop(Z1, A1, Z2, A2, Z3, A3, W1, W2, W3, X, Y, activation_hidden1_deriv, activation_hidden2_deriv):\n",
        "    one_hot_Y = one_hot(Y)\n",
        "    dZ3 = A3 - one_hot_Y\n",
        "    dW3 = 1 / m * dZ3.dot(A2.T)\n",
        "    db3 = 1 / m * np.sum(dZ3, axis=1, keepdims=True)\n",
        "    dZ2 = W3.T.dot(dZ3) * activation_hidden2_deriv(Z2)\n",
        "    dW2 = 1 / m * dZ2.dot(A1.T)\n",
        "    db2 = 1 / m * np.sum(dZ2, axis=1, keepdims=True)\n",
        "    dZ1 = W2.T.dot(dZ2) * activation_hidden1_deriv(Z1)\n",
        "    dW1 = 1 / m * dZ1.dot(X.T)\n",
        "    db1 = 1 / m * np.sum(dZ1, axis=1, keepdims=True)\n",
        "    return dW1, db1, dW2, db2, dW3, db3\n"
      ],
      "metadata": {
        "execution": {
          "iopub.status.busy": "2024-07-12T06:41:01.079844Z",
          "iopub.execute_input": "2024-07-12T06:41:01.080756Z",
          "iopub.status.idle": "2024-07-12T06:41:01.090025Z",
          "shell.execute_reply.started": "2024-07-12T06:41:01.080709Z",
          "shell.execute_reply": "2024-07-12T06:41:01.088802Z"
        },
        "trusted": true,
        "id": "nuD-EoNVxk7o"
      },
      "execution_count": 11,
      "outputs": []
    },
    {
      "cell_type": "code",
      "source": [
        "def update_params(W1, b1, W2, b2, W3, b3, dW1, db1, dW2, db2, dW3, db3, alpha):\n",
        "    W1 = W1 - alpha * dW1\n",
        "    b1 = b1 - alpha * db1\n",
        "    W2 = W2 - alpha * dW2\n",
        "    b2 = b2 - alpha * db2\n",
        "    W3 = W3 - alpha * dW3\n",
        "    b3 = b3 - alpha * db3\n",
        "    return W1, b1, W2, b2, W3, b3\n"
      ],
      "metadata": {
        "execution": {
          "iopub.status.busy": "2024-07-12T06:41:04.613299Z",
          "iopub.execute_input": "2024-07-12T06:41:04.613728Z",
          "iopub.status.idle": "2024-07-12T06:41:04.621289Z",
          "shell.execute_reply.started": "2024-07-12T06:41:04.613692Z",
          "shell.execute_reply": "2024-07-12T06:41:04.62002Z"
        },
        "trusted": true,
        "id": "stYZjJkwxk7p"
      },
      "execution_count": 12,
      "outputs": []
    },
    {
      "cell_type": "code",
      "source": [
        "def get_accuracy(predictions, Y):\n",
        "    return np.sum(predictions == Y) / Y.size\n"
      ],
      "metadata": {
        "execution": {
          "iopub.status.busy": "2024-07-12T06:41:07.010848Z",
          "iopub.execute_input": "2024-07-12T06:41:07.011261Z",
          "iopub.status.idle": "2024-07-12T06:41:07.016539Z",
          "shell.execute_reply.started": "2024-07-12T06:41:07.011227Z",
          "shell.execute_reply": "2024-07-12T06:41:07.015319Z"
        },
        "trusted": true,
        "id": "S_GRWMVjxk7p"
      },
      "execution_count": 13,
      "outputs": []
    },
    {
      "cell_type": "code",
      "source": [
        "def gradient_descent(X, Y, alpha, iterations, activation_hidden1, activation_hidden2, activation_hidden1_deriv, activation_hidden2_deriv):\n",
        "    W1, b1, W2, b2, W3, b3 = init_params()\n",
        "    accuracy_list = []\n",
        "    for i in range(iterations):\n",
        "        Z1, A1, Z2, A2, Z3, A3 = forward_prop(W1, b1, W2, b2, W3, b3, X, activation_hidden1, activation_hidden2)\n",
        "        dW1, db1, dW2, db2, dW3, db3 = backward_prop(Z1, A1, Z2, A2, Z3, A3, W1, W2, W3, X, Y, activation_hidden1_deriv, activation_hidden2_deriv)\n",
        "        W1, b1, W2, b2, W3, b3 = update_params(W1, b1, W2, b2, W3, b3, dW1, db1, dW2, db2, dW3, db3, alpha)\n",
        "        if i % 10 == 0:\n",
        "            predictions = np.argmax(A3, axis=0)\n",
        "            accuracy = get_accuracy(predictions, Y)\n",
        "            accuracy_list.append(accuracy)\n",
        "            print(f\"Iteration {i}: {accuracy}\")\n",
        "    return W1, b1, W2, b2, W3, b3, accuracy_list\n"
      ],
      "metadata": {
        "execution": {
          "iopub.status.busy": "2024-07-12T06:41:09.861916Z",
          "iopub.execute_input": "2024-07-12T06:41:09.863237Z",
          "iopub.status.idle": "2024-07-12T06:41:09.872931Z",
          "shell.execute_reply.started": "2024-07-12T06:41:09.863188Z",
          "shell.execute_reply": "2024-07-12T06:41:09.871641Z"
        },
        "trusted": true,
        "id": "I-tCh342xk7p"
      },
      "execution_count": 14,
      "outputs": []
    },
    {
      "cell_type": "code",
      "source": [
        "def make_predictions(X, W1, b1, W2, b2, W3, b3, activation_hidden1, activation_hidden2):\n",
        "    _, _, _, _, _, A3 = forward_prop(W1, b1, W2, b2, W3, b3, X, activation_hidden1, activation_hidden2)\n",
        "    predictions = np.argmax(A3, axis=0)\n",
        "    return predictions\n"
      ],
      "metadata": {
        "execution": {
          "iopub.status.busy": "2024-07-12T06:41:15.05253Z",
          "iopub.execute_input": "2024-07-12T06:41:15.052945Z",
          "iopub.status.idle": "2024-07-12T06:41:15.059877Z",
          "shell.execute_reply.started": "2024-07-12T06:41:15.052914Z",
          "shell.execute_reply": "2024-07-12T06:41:15.058431Z"
        },
        "trusted": true,
        "id": "UFGQmEFLxk7p"
      },
      "execution_count": 15,
      "outputs": []
    },
    {
      "cell_type": "code",
      "source": [
        "print(\"training with LeakyReLU and ELU\")\n",
        "W1, b1, W2, b2, W3, b3, accuracy_list_leaky_elu = gradient_descent(\n",
        "    X_dev, Y_dev, 0.10, 500, LeakyReLU, ELU, LeakyReLU_deriv, ELU_deriv)\n",
        "\n",
        "predictions_test_leaky_elu = make_predictions(X_dev, W1, b1, W2, b2, W3, b3, LeakyReLU, ELU)\n"
      ],
      "metadata": {
        "execution": {
          "iopub.status.busy": "2024-07-12T06:41:16.682791Z",
          "iopub.execute_input": "2024-07-12T06:41:16.683198Z",
          "iopub.status.idle": "2024-07-12T06:45:31.866238Z",
          "shell.execute_reply.started": "2024-07-12T06:41:16.683166Z",
          "shell.execute_reply": "2024-07-12T06:45:31.864728Z"
        },
        "trusted": true,
        "id": "SvOmFA2qxk7p",
        "outputId": "ed546338-c544-471c-8361-b7b218912890",
        "colab": {
          "base_uri": "https://localhost:8080/"
        }
      },
      "execution_count": 16,
      "outputs": [
        {
          "output_type": "stream",
          "name": "stdout",
          "text": [
            "training with LeakyReLU and ELU\n",
            "Iteration 0: 0.1095\n",
            "Iteration 10: 0.5179285714285714\n",
            "Iteration 20: 0.6372142857142857\n",
            "Iteration 30: 0.69575\n",
            "Iteration 40: 0.7313214285714286\n",
            "Iteration 50: 0.75575\n",
            "Iteration 60: 0.7729642857142857\n",
            "Iteration 70: 0.7881071428571429\n",
            "Iteration 80: 0.7996785714285715\n",
            "Iteration 90: 0.8101071428571428\n",
            "Iteration 100: 0.8181785714285714\n",
            "Iteration 110: 0.8241785714285714\n",
            "Iteration 120: 0.8313214285714285\n",
            "Iteration 130: 0.8367857142857142\n",
            "Iteration 140: 0.8415\n",
            "Iteration 150: 0.8459642857142857\n",
            "Iteration 160: 0.84925\n",
            "Iteration 170: 0.8522857142857143\n",
            "Iteration 180: 0.8561785714285715\n",
            "Iteration 190: 0.85925\n",
            "Iteration 200: 0.8618571428571429\n",
            "Iteration 210: 0.86425\n",
            "Iteration 220: 0.8664642857142857\n",
            "Iteration 230: 0.869\n",
            "Iteration 240: 0.8712142857142857\n",
            "Iteration 250: 0.8734285714285714\n",
            "Iteration 260: 0.8750714285714286\n",
            "Iteration 270: 0.8768928571428571\n",
            "Iteration 280: 0.8784642857142857\n",
            "Iteration 290: 0.8807857142857143\n",
            "Iteration 300: 0.8827142857142857\n",
            "Iteration 310: 0.8845357142857143\n",
            "Iteration 320: 0.8863928571428571\n",
            "Iteration 330: 0.8880714285714286\n",
            "Iteration 340: 0.8892857142857142\n",
            "Iteration 350: 0.8905714285714286\n",
            "Iteration 360: 0.8921785714285714\n",
            "Iteration 370: 0.8935\n",
            "Iteration 380: 0.8947857142857143\n",
            "Iteration 390: 0.89575\n",
            "Iteration 400: 0.89675\n",
            "Iteration 410: 0.8978214285714285\n",
            "Iteration 420: 0.8986785714285714\n",
            "Iteration 430: 0.8998928571428572\n",
            "Iteration 440: 0.9010357142857143\n",
            "Iteration 450: 0.9023928571428571\n",
            "Iteration 460: 0.9035\n",
            "Iteration 470: 0.9043214285714286\n",
            "Iteration 480: 0.9054642857142857\n",
            "Iteration 490: 0.9060714285714285\n"
          ]
        }
      ]
    },
    {
      "cell_type": "code",
      "source": [
        "# Training and testing with ReLU\n",
        "print(\"training with only ReLU\")\n",
        "W1, b1, W2, b2, W3, b3, accuracy_list_relu = gradient_descent(\n",
        "    X_train, Y_train, 0.10, 500, ReLU, ReLU, ReLU_deriv, ReLU_deriv)\n",
        "\n",
        "predictions_test_relu = make_predictions(X_dev, W1, b1, W2, b2, W3, b3, ReLU, ReLU)\n"
      ],
      "metadata": {
        "execution": {
          "iopub.status.busy": "2024-07-12T06:45:38.249971Z",
          "iopub.execute_input": "2024-07-12T06:45:38.250397Z",
          "iopub.status.idle": "2024-07-12T06:50:50.651346Z",
          "shell.execute_reply.started": "2024-07-12T06:45:38.250362Z",
          "shell.execute_reply": "2024-07-12T06:50:50.649832Z"
        },
        "trusted": true,
        "id": "dKkcYV79xk7q",
        "outputId": "dce5db1a-2d48-457a-c26c-eabd9a70a420",
        "colab": {
          "base_uri": "https://localhost:8080/"
        }
      },
      "execution_count": 17,
      "outputs": [
        {
          "output_type": "stream",
          "name": "stdout",
          "text": [
            "training with only ReLU\n",
            "Iteration 0: 0.087\n",
            "Iteration 10: 0.42197560975609755\n",
            "Iteration 20: 0.5380731707317074\n",
            "Iteration 30: 0.6224390243902439\n",
            "Iteration 40: 0.6802439024390244\n",
            "Iteration 50: 0.7165609756097561\n",
            "Iteration 60: 0.7429268292682927\n",
            "Iteration 70: 0.7641219512195122\n",
            "Iteration 80: 0.7817560975609756\n",
            "Iteration 90: 0.795609756097561\n",
            "Iteration 100: 0.8065609756097561\n",
            "Iteration 110: 0.8156341463414634\n",
            "Iteration 120: 0.8243414634146341\n",
            "Iteration 130: 0.8316341463414634\n",
            "Iteration 140: 0.8382195121951219\n",
            "Iteration 150: 0.8442926829268292\n",
            "Iteration 160: 0.8491463414634146\n",
            "Iteration 170: 0.8534634146341463\n",
            "Iteration 180: 0.857780487804878\n",
            "Iteration 190: 0.8626341463414634\n",
            "Iteration 200: 0.8666341463414634\n",
            "Iteration 210: 0.8697560975609756\n",
            "Iteration 220: 0.8726829268292683\n",
            "Iteration 230: 0.8753170731707317\n",
            "Iteration 240: 0.8779268292682927\n",
            "Iteration 250: 0.880609756097561\n",
            "Iteration 260: 0.8827804878048781\n",
            "Iteration 270: 0.8851219512195122\n",
            "Iteration 280: 0.8869756097560976\n",
            "Iteration 290: 0.8886341463414634\n",
            "Iteration 300: 0.8904146341463415\n",
            "Iteration 310: 0.8921219512195122\n",
            "Iteration 320: 0.8937560975609756\n",
            "Iteration 330: 0.8956341463414634\n",
            "Iteration 340: 0.8970975609756098\n",
            "Iteration 350: 0.8986829268292683\n",
            "Iteration 360: 0.9002682926829269\n",
            "Iteration 370: 0.9014878048780488\n",
            "Iteration 380: 0.9029512195121951\n",
            "Iteration 390: 0.9038536585365854\n",
            "Iteration 400: 0.9049268292682927\n",
            "Iteration 410: 0.9063170731707317\n",
            "Iteration 420: 0.907390243902439\n",
            "Iteration 430: 0.908390243902439\n",
            "Iteration 440: 0.9093658536585366\n",
            "Iteration 450: 0.9104634146341464\n",
            "Iteration 460: 0.9114146341463415\n",
            "Iteration 470: 0.9120487804878049\n",
            "Iteration 480: 0.9127804878048781\n",
            "Iteration 490: 0.9137317073170732\n"
          ]
        }
      ]
    },
    {
      "cell_type": "code",
      "source": [
        "plt.plot(accuracy_list_leaky_elu, label='LeakyReLU + ELU')\n",
        "plt.plot(accuracy_list_relu, label='ReLU')\n",
        "plt.xlabel('Iteration (x10)')\n",
        "plt.ylabel('Accuracy')\n",
        "plt.legend()\n",
        "plt.show()\n"
      ],
      "metadata": {
        "execution": {
          "iopub.status.busy": "2024-07-12T06:57:47.849781Z",
          "iopub.execute_input": "2024-07-12T06:57:47.850186Z",
          "iopub.status.idle": "2024-07-12T06:57:48.112819Z",
          "shell.execute_reply.started": "2024-07-12T06:57:47.850155Z",
          "shell.execute_reply": "2024-07-12T06:57:48.111535Z"
        },
        "trusted": true,
        "id": "fPfenmh9xk7q",
        "outputId": "c8e094a7-bde3-402c-8398-e0e09eab3390",
        "colab": {
          "base_uri": "https://localhost:8080/",
          "height": 449
        }
      },
      "execution_count": 18,
      "outputs": [
        {
          "output_type": "display_data",
          "data": {
            "text/plain": [
              "<Figure size 640x480 with 1 Axes>"
            ],
            "image/png": "[encoded data removed]"
          },
          "metadata": {}
        }
      ]
    },
    {
      "cell_type": "code",
      "source": [
        "def test_prediction(index, W1, b1, W2, b2, W3, b3):\n",
        "    current_image = X_train[:, index, None]\n",
        "    prediction = make_predictions(X_train[:, index, None], W1, b1, W2, b2, W3, b3, LeakyReLU,ELU)\n",
        "    label = Y_train[index]\n",
        "    print(\"Prediction: \", prediction)\n",
        "    print(\"Label: \", label)\n",
        "\n",
        "    current_image = current_image.reshape((28, 28)) * 255\n",
        "    plt.gray()\n",
        "    plt.imshow(current_image, interpolation='nearest')\n",
        "    plt.show()"
      ],
      "metadata": {
        "execution": {
          "iopub.status.busy": "2024-07-12T07:12:08.13171Z",
          "iopub.execute_input": "2024-07-12T07:12:08.132118Z",
          "iopub.status.idle": "2024-07-12T07:12:08.140098Z",
          "shell.execute_reply.started": "2024-07-12T07:12:08.132077Z",
          "shell.execute_reply": "2024-07-12T07:12:08.138871Z"
        },
        "trusted": true,
        "id": "8nB1KGhsxk7r"
      },
      "execution_count": 19,
      "outputs": []
    },
    {
      "cell_type": "code",
      "source": [
        "test_prediction(86, W1, b1, W2, b2, W3, b3)"
      ],
      "metadata": {
        "execution": {
          "iopub.status.busy": "2024-07-12T07:14:09.566702Z",
          "iopub.execute_input": "2024-07-12T07:14:09.567097Z",
          "iopub.status.idle": "2024-07-12T07:14:09.87246Z",
          "shell.execute_reply.started": "2024-07-12T07:14:09.567065Z",
          "shell.execute_reply": "2024-07-12T07:14:09.87138Z"
        },
        "trusted": true,
        "id": "eL9JGogCxk7r",
        "outputId": "da4ed730-eedb-48b1-9e1c-12cd9b2fff8e",
        "colab": {
          "base_uri": "https://localhost:8080/",
          "height": 466
        }
      },
      "execution_count": 21,
      "outputs": [
        {
          "output_type": "stream",
          "name": "stdout",
          "text": [
            "Prediction:  [0]\n",
            "Label:  0\n"
          ]
        },
        {
          "output_type": "display_data",
          "data": {
            "text/plain": [
              "<Figure size 640x480 with 1 Axes>"
            ],
            "image/png": "[encoded data removed]"
          },
          "metadata": {}
        }
      ]
    },
    {
      "cell_type": "code",
      "source": [],
      "metadata": {
        "id": "Gbw4mtF1xk7r"
      },
      "execution_count": null,
      "outputs": []
    }
  ]
}